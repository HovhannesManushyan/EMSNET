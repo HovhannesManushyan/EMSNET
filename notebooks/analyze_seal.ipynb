{
 "cells": [
  {
   "cell_type": "code",
   "execution_count": 1,
   "metadata": {
    "collapsed": true
   },
   "outputs": [],
   "source": [
    "import sys\n",
    "\n",
    "sys.path.insert(0, \"/home/elina/PycharmProjects/capstone_project\")\n",
    "import torch.nn as nn\n",
    "import torch.optim as optim\n",
    "from sklearn.metrics import f1_score\n",
    "from torchmetrics.classification import BinaryAUROC\n",
    "from modules.model.main import ConvCatNet\n",
    "from modules.data.preprocessing import PreProcess\n",
    "\n",
    "import torch\n",
    "import tenseal as ts\n",
    "import numpy as np\n",
    "\n",
    "from modules.encryption.keys import create_ctx"
   ]
  },
  {
   "cell_type": "code",
   "execution_count": 2,
   "outputs": [],
   "source": [
    "device = torch.device(\"cuda:0\" if torch.cuda.is_available() else \"cpu\")\n",
    "image_size = 64  # poly degree /2 should be bigger than image to columns for conv size\n",
    "context, server_context = create_ctx()  # scale up as working with floats,\n"
   ],
   "metadata": {
    "collapsed": false
   }
  },
  {
   "cell_type": "code",
   "execution_count": 4,
   "outputs": [
    {
     "name": "stderr",
     "output_type": "stream",
     "text": [
      "  0%|          | 2/1920 [00:00<10:08,  3.15it/s]"
     ]
    },
    {
     "name": "stdout",
     "output_type": "stream",
     "text": [
      "ConvCatNet(\n",
      "  (lrelu): LeakyReLU(negative_slope=0.1)\n",
      "  (conv1): Conv2d(3, 1, kernel_size=(3, 3), stride=(1, 1), padding=(1, 1))\n",
      "  (conv2): Conv2d(3, 1, kernel_size=(5, 5), stride=(1, 1), padding=(2, 2))\n",
      "  (fc1): Linear(in_features=8192, out_features=128, bias=True)\n",
      "  (fc2): Linear(in_features=128, out_features=1, bias=True)\n",
      ")\n"
     ]
    },
    {
     "name": "stderr",
     "output_type": "stream",
     "text": [
      "\n"
     ]
    }
   ],
   "source": [
    "preprocessor = PreProcess(image_size=image_size)\n",
    "train_dataloader, test_dataloader = preprocessor.preprocess()\n",
    "net = ConvCatNet(image_size=image_size).to(device)\n",
    "print(net)"
   ],
   "metadata": {
    "collapsed": false
   }
  },
  {
   "cell_type": "code",
   "execution_count": 6,
   "outputs": [
    {
     "data": {
      "text/plain": "[61504]"
     },
     "execution_count": 6,
     "metadata": {},
     "output_type": "execute_result"
    }
   ],
   "source": [
    "img = preprocessor.cuda_image_array.copy()[0][0]\n",
    "\n",
    "conv1_weight = net.conv1.weight.data.view(\n",
    "    -1, net.conv1.kernel_size[0],\n",
    "    net.conv1.kernel_size[1]\n",
    ").tolist()\n",
    "conv1_bias = net.conv1.bias.data.tolist()\n",
    "nk = img.tolist().copy()[0]\n",
    "\n",
    "x_enc_0, windows_nb_0 = ts.im2col_encoding(\n",
    "    context, nk, 3,\n",
    "    3, 1\n",
    ")\n",
    "x_enc_0.shape\n"
   ],
   "metadata": {
    "collapsed": false
   }
  },
  {
   "cell_type": "code",
   "execution_count": null,
   "outputs": [],
   "source": [],
   "metadata": {
    "collapsed": false
   }
  }
 ],
 "metadata": {
  "kernelspec": {
   "display_name": "Python 3",
   "language": "python",
   "name": "python3"
  },
  "language_info": {
   "codemirror_mode": {
    "name": "ipython",
    "version": 2
   },
   "file_extension": ".py",
   "mimetype": "text/x-python",
   "name": "python",
   "nbconvert_exporter": "python",
   "pygments_lexer": "ipython2",
   "version": "2.7.6"
  }
 },
 "nbformat": 4,
 "nbformat_minor": 0
}
