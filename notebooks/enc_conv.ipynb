{
 "cells": [
  {
   "cell_type": "code",
   "execution_count": null,
   "metadata": {
    "collapsed": true
   },
   "outputs": [],
   "source": [
    "import matplotlib.pyplot as plt\n",
    "import numpy as np\n",
    "import tenseal as ts\n",
    "import torch\n",
    "import torch.nn as nn\n",
    "x_train, y_train, x_test, y_test = random_data(m=10000)\n",
    "\n",
    "\n",
    "class SampleModel(nn.Module):\n",
    "    def __init__(self):\n",
    "        super().__init__()\n",
    "        self.layer1 = nn.Linear(1, 16)\n",
    "        self.layer2 = nn.Linear(16, 1)\n",
    "        self.sigmoid = nn.Sigmoid()\n",
    "\n",
    "    def forward(self, x):\n",
    "        x = self.layer1(x)\n",
    "        x = self.sigmoid(x)\n",
    "        x = self.layer2(x)\n",
    "        x = self.sigmoid(x)\n",
    "        return x\n",
    "\n",
    "\n",
    "sample_model = SampleModel()\n",
    "loss_fn = nn.BCELoss()\n",
    "optimizer = torch.optim.Adam(sample_model.parameters())\n",
    "batch_size = 10\n",
    "data = torch.split(x_train, batch_size)\n",
    "y = torch.split(y_train, batch_size)\n",
    "\n",
    "for epoch in range(5):\n",
    "    for i in range(len(data)):\n",
    "        optimizer.zero_grad()\n",
    "        output = sample_model(data[i])\n",
    "        loss = loss_fn(output, y[i])\n",
    "        loss.backward()\n",
    "        optimizer.step()\n",
    "        accuracy = (output.round() == y[i]).float().mean()\n",
    "        print('Epoch {} Loss {} Accuracy {}'.format(epoch, loss.item(), accuracy))\n",
    "\n",
    "with torch.no_grad():\n",
    "    output_test = sample_model(x_test)\n",
    "    accuracy_test = (output_test.round() == y_test).float().mean()\n",
    "    print('Test Accuracy:', accuracy_test.item())"
   ]
  }
 ],
 "metadata": {
  "kernelspec": {
   "display_name": "Python 3",
   "language": "python",
   "name": "python3"
  },
  "language_info": {
   "codemirror_mode": {
    "name": "ipython",
    "version": 2
   },
   "file_extension": ".py",
   "mimetype": "text/x-python",
   "name": "python",
   "nbconvert_exporter": "python",
   "pygments_lexer": "ipython2",
   "version": "2.7.6"
  }
 },
 "nbformat": 4,
 "nbformat_minor": 0
}
